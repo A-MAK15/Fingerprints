{
 "cells": [
  {
   "cell_type": "markdown",
   "id": "ae03dceb-b723-4cd0-8b2b-cccc77a73394",
   "metadata": {},
   "source": [
    "# Imported Modules\n",
    "\n",
    "### pubchempy\n",
    "The packages that are necessary in this project include pubchempy which enables us to get the compound ID of our statins. These compound IDs will help us get the smiles of our desired compounds of which in this case its the statins that were requested.\n",
    "\n",
    "### rdkit\n",
    "The rdkit module assists us to get access to the Chem module that allows us to convert a smile to a molecule that will enable us to get the fingerprints of the statins through the use of rdmolops. RDkit also help us gain access to the DataStructs that enables us to calculate the TanimotoSimilarity between the statins."
   ]
  },
  {
   "cell_type": "code",
   "execution_count": 13,
   "id": "cab2e0f4-d69c-4952-8845-56230e06aabf",
   "metadata": {},
   "outputs": [],
   "source": [
    "import pubchempy as pcp\n",
    "import rdkit\n",
    "from rdkit import Chem\n",
    "from rdkit.Chem import rdmolops\n",
    "from rdkit import DataStructs"
   ]
  },
  {
   "cell_type": "markdown",
   "id": "a22be2c3-ff78-4802-81db-6d496c5180c1",
   "metadata": {},
   "source": [
    "# Compound ID and Smiles\n",
    "In this section we are trying to get the compound IDs of our statins via pubchem through the use of names of the statins. After that, we extract \n",
    "the smiles of each statins based on their respective compound IDs."
   ]
  },
  {
   "cell_type": "code",
   "execution_count": 20,
   "id": "4388118f-946f-4557-b7af-f17e4f094412",
   "metadata": {},
   "outputs": [
    {
     "name": "stdout",
     "output_type": "stream",
     "text": [
      "Simvastatin : CCC(C)(C)C(=O)O[C@H]1C[C@H](C=C2[C@H]1[C@H]([C@H](C=C2)C)CC[C@@H]3C[C@H](CC(=O)O3)O)C\n",
      "Pravastatin : CC[C@H](C)C(=O)O[C@H]1C[C@@H](C=C2[C@H]1[C@H]([C@H](C=C2)C)CC[C@H](C[C@H](CC(=O)O)O)O)O\n",
      "Atorvastatin : CC(C)C1=C(C(=C(N1CC[C@H](C[C@H](CC(=O)O)O)O)C2=CC=C(C=C2)F)C3=CC=CC=C3)C(=O)NC4=CC=CC=C4\n",
      "Fluvastatin : CC(C)N1C2=CC=CC=C2C(=C1/C=C/[C@H](C[C@H](CC(=O)O)O)O)C3=CC=C(C=C3)F\n"
     ]
    }
   ],
   "source": [
    "simvastin = pcp.get_compounds(\"Simvastatin\", \"name\") #Getting the compound ID of the statin\n",
    "pravastatin = pcp.get_compounds(\"Pravastatin\", \"name\")\n",
    "atorvastatin = pcp.get_compounds(\"Atorvastatin\", \"name\")\n",
    "fluvastatin = pcp.get_compounds(\"Fluvastatin\", \"name\")\n",
    "# print(simvastin_smiles)\n",
    "\n",
    "#smiles\n",
    "simvastin_smiles = simvastin[0].isomeric_smiles #Getting the smiles of the statins\n",
    "pravastatin_smiles = pravastatin[0].isomeric_smiles\n",
    "atorvastatin_smiles = atorvastatin[0].isomeric_smiles\n",
    "fluvastatin_smiles = fluvastatin[0].isomeric_smiles\n",
    "\n",
    "print(\"Simvastatin :\",simvastin_smiles)\n",
    "print(\"Pravastatin :\",pravastatin_smiles)\n",
    "print(\"Atorvastatin :\",atorvastatin_smiles)\n",
    "print(\"Fluvastatin :\",fluvastatin_smiles)"
   ]
  },
  {
   "cell_type": "markdown",
   "id": "0013282a-ca7b-4162-9234-bad6e9519874",
   "metadata": {},
   "source": [
    "# Converting Smiles to RDKit Molecules\n",
    "In this section we are converting smiles to RDKit molecules that we will need to get the fingerprints of these statins."
   ]
  },
  {
   "cell_type": "code",
   "execution_count": 22,
   "id": "f9571ddd-a865-49d4-b603-03d0224aa29a",
   "metadata": {},
   "outputs": [],
   "source": [
    "simvastin_mol = Chem.MolFromSmiles(simvastin_smiles) #Smiles to RdKit Molecules\n",
    "pravastatin_mol = Chem.MolFromSmiles(pravastatin_smiles)\n",
    "atorvastatin_mol = Chem.MolFromSmiles(atorvastatin_smiles)\n",
    "fluvastatin_mol = Chem.MolFromSmiles(fluvastatin_smiles)\n",
    "\n",
    "# print(simvastin_mol)\n",
    "# print(pravastatin_mol)\n",
    "# print(atorvastatin_mol)\n",
    "# print(fluvastatin_mol)"
   ]
  },
  {
   "cell_type": "markdown",
   "id": "ad68c52d-d7ad-451f-b6f4-e75b8d865b02",
   "metadata": {},
   "source": [
    "# Fingerprints\n",
    "We are getting the fingerprints of the statins through the use of rdmolops module."
   ]
  },
  {
   "cell_type": "code",
   "execution_count": 24,
   "id": "d4fa3207-6c17-47aa-b9c2-e06fee9f7cc6",
   "metadata": {},
   "outputs": [
    {
     "name": "stdout",
     "output_type": "stream",
     "text": [
      "<rdkit.DataStructs.cDataStructs.ExplicitBitVect object at 0x000001AE8AB0A0A0>\n",
      "<rdkit.DataStructs.cDataStructs.ExplicitBitVect object at 0x000001AE8AB09D20>\n",
      "<rdkit.DataStructs.cDataStructs.ExplicitBitVect object at 0x000001AE8AB0A6C0>\n",
      "<rdkit.DataStructs.cDataStructs.ExplicitBitVect object at 0x000001AE8AB0A570>\n"
     ]
    }
   ],
   "source": [
    "simvastin_fp = rdmolops.RDKFingerprint(simvastin_mol) #Getting the fingerprint of the statin\n",
    "pravastatin_fp = rdmolops.RDKFingerprint(pravastatin_mol)\n",
    "atorvastatin_fp = rdmolops.RDKFingerprint(atorvastatin_mol)\n",
    "fluvastatin_fp = rdmolops.RDKFingerprint(fluvastatin_mol)\n",
    "\n",
    "print(simvastin_fp)\n",
    "print(pravastatin_fp)\n",
    "print(atorvastatin_fp)\n",
    "print(fluvastatin_fp)"
   ]
  },
  {
   "cell_type": "markdown",
   "id": "23bc98b0-4e4a-4032-b650-333ee866d984",
   "metadata": {},
   "source": [
    "# Tanimoto score\n",
    "Here we first created a dictionary of the name of the statin and the fingerprint of the statin. We then create a for loop that will loop through the dictionary's key value pair, meaning enumerate through the dictionary. Through this looping, we get to calculate the Tanimoto Similarity between the fingerprints of the main statin (statin that we are comparing against) and the statins (statins we are comparing to) that are part of the dictionary.\n",
    "\n",
    "NB : The main statin is not part of the dictionary because it is the one that we are comparing against.\n",
    "\n",
    "The same process is followed for each statin :~\n",
    "  ### 1. Simvastatin"
   ]
  },
  {
   "cell_type": "code",
   "execution_count": 33,
   "id": "a313c38c-f3d2-49c5-8064-a742b7b3e979",
   "metadata": {},
   "outputs": [
    {
     "name": "stdout",
     "output_type": "stream",
     "text": [
      "Similarity between Simvastatin and  Pravastatin is : 0.8719879518072289\n",
      "Similarity between Simvastatin and  Atorvastatin is : 0.3004318322023442\n",
      "Similarity between Simvastatin and  Fluvastatin is : 0.2929368029739777\n"
     ]
    }
   ],
   "source": [
    "#Calculate Tanimoto score for Simvastatin\n",
    "statins_comp_one = {\"Pravastatin\" : pravastatin_fp, \"Atorvastatin\" : atorvastatin_fp, \"Fluvastatin\" : fluvastatin_fp}\n",
    "\n",
    "for position, (statin, fingerprint) in enumerate(statins_comp_one.items(), start=1):\n",
    "    simvastatin_tanimoto_score = DataStructs.TanimotoSimilarity(simvastin_fp, fingerprint)\n",
    "    print(\"Similarity between Simvastatin and \",statin,\"is :\", simvastatin_tanimoto_score)\n"
   ]
  },
  {
   "cell_type": "markdown",
   "id": "4fcb6698-4f46-4683-8e47-d8825f318819",
   "metadata": {},
   "source": [
    "### 2. Pravastatin"
   ]
  },
  {
   "cell_type": "code",
   "execution_count": 35,
   "id": "eddd1bd9-20cb-448e-acc4-90862e4038b6",
   "metadata": {},
   "outputs": [
    {
     "name": "stdout",
     "output_type": "stream",
     "text": [
      "Similarity between Pravastatin and  Simvastatin is : 0.8719879518072289\n",
      "Similarity between Pravastatin and  Atorvastatin is : 0.30357142857142855\n",
      "Similarity between Pravastatin and  Fluvastatin is : 0.3044776119402985\n"
     ]
    }
   ],
   "source": [
    "#Calculate Tanimoto score for Pravastatin\n",
    "statins_comp_two = {\"Simvastatin\" : simvastin_fp, \"Atorvastatin\" : atorvastatin_fp, \"Fluvastatin\" : fluvastatin_fp}\n",
    "\n",
    "for position, (statin, fingerprint) in enumerate(statins_comp_two.items(), start=1):\n",
    "    pravastatin_tanimoto_score = DataStructs.TanimotoSimilarity(pravastatin_fp, fingerprint)\n",
    "    print(\"Similarity between Pravastatin and \",statin,\"is :\", pravastatin_tanimoto_score)\n"
   ]
  },
  {
   "cell_type": "markdown",
   "id": "e9f049be-3ccb-4954-a9e5-bf3e698a8b47",
   "metadata": {},
   "source": [
    "### 3. Atorvastatin"
   ]
  },
  {
   "cell_type": "code",
   "execution_count": 37,
   "id": "24957da7-9583-42d2-adb1-ddf28d46f8ce",
   "metadata": {},
   "outputs": [
    {
     "name": "stdout",
     "output_type": "stream",
     "text": [
      "Similarity between Atorvastatin and  Simvastatin is : 0.3004318322023442\n",
      "Similarity between Atorvastatin and  Pravastatin is : 0.30357142857142855\n",
      "Similarity between Atorvastatin and  Fluvastatin is : 0.5218404193360513\n"
     ]
    }
   ],
   "source": [
    "#Calculate Tanimoto score for Atorvastatin\n",
    "statins_comp_three = {\"Simvastatin\" : simvastin_fp,\"Pravastatin\" : pravastatin_fp,\"Fluvastatin\" : fluvastatin_fp}\n",
    "# print(statins_comp_three[1])\n",
    "\n",
    "for position, (statin, fingerprint) in enumerate(statins_comp_three.items(), start=1):\n",
    "    # print(position, statin, fingerprint)\n",
    "    atorvastatin_tanimoto_score = DataStructs.TanimotoSimilarity(atorvastatin_fp, fingerprint)\n",
    "    print(\"Similarity between Atorvastatin and \",statin,\"is :\", atorvastatin_tanimoto_score)\n"
   ]
  },
  {
   "cell_type": "markdown",
   "id": "d2bd23f8-f131-470c-9903-b8d4f81789e4",
   "metadata": {},
   "source": [
    "### 4. Fluvastatin"
   ]
  },
  {
   "cell_type": "code",
   "execution_count": 39,
   "id": "1403629b-92cb-4f6e-8e93-41bfe11377f1",
   "metadata": {},
   "outputs": [
    {
     "name": "stdout",
     "output_type": "stream",
     "text": [
      "Similarity between Fluvastatin and  Simvastatin is : 0.2929368029739777\n",
      "Similarity between Fluvastatin and  Pravastatin is : 0.3044776119402985\n",
      "Similarity between Fluvastatin and  Atorvastatin is : 0.5218404193360513\n"
     ]
    }
   ],
   "source": [
    "#Calculate Tanimoto score for Fluvastatin\n",
    "statins_comp_four = {\"Simvastatin\" : simvastin_fp,\"Pravastatin\" : pravastatin_fp,\"Atorvastatin\" : atorvastatin_fp}\n",
    "\n",
    "for position, (statin, fingerprint) in enumerate(statins_comp_four.items(), start=1):\n",
    "    fluvastatin_tanimoto_score = DataStructs.TanimotoSimilarity(fluvastatin_fp, fingerprint)\n",
    "    print(\"Similarity between Fluvastatin and \",statin,\"is :\", fluvastatin_tanimoto_score)"
   ]
  },
  {
   "cell_type": "markdown",
   "id": "118b1860-8d77-4925-b34b-dc7f8181a862",
   "metadata": {},
   "source": [
    "# Closest Match\n",
    "Here we are stating the statins that show the greatest similarity with other statins. The similarity showed below is the ones that was the greatest than the other similarity values hence a greater TanimatoSimilarity shows a higher similarity.\n",
    "### 1. Simvastatin\n",
    "Simvastatin and Pravastatin shows a greater degree of similarity with a tanimoto score of 0.872 which is higher tanimoto similarity than other statins.\n",
    "\n",
    "### 2. Pravastatin\n",
    "As mentioned previously, Pravastatin and Simvastatin shows a higher similarity with a tanimoto score 0.872.\n",
    "\n",
    "### 3. Atorvastatin\n",
    "Atorvastatin and Fluvastatin have a greater similarity with a tanimoto score of is 0.522.\n",
    "\n",
    "### 4. Fluvastatin\n",
    "As mentioned previously, Fluvastatin and Atorvastatin have a higher similairty in comparison to other statins with a tanimoto score of 0.522."
   ]
  },
  {
   "cell_type": "markdown",
   "id": "1048caf5-f2f5-4a1b-b5b9-b5e8201af1aa",
   "metadata": {},
   "source": [
    "# Challenges\n",
    "The challenge that I encountered was when I was trying to display the names of the statins that I was currently calculating their similarity via the loop, that is when I realized I needed to create a dictionary to store the name of the statin and the fingerprint of the statin. With this dictionary, it was easy to display the names of the statins that we are comparing and their similarity value.\n",
    "\n",
    "# Potential Improvements\n",
    "It would have been better if I displayed the closest match of each statin in a calculated way but I just did it manually as I do see the values."
   ]
  }
 ],
 "metadata": {
  "kernelspec": {
   "display_name": "Python 3 (ipykernel)",
   "language": "python",
   "name": "python3"
  },
  "language_info": {
   "codemirror_mode": {
    "name": "ipython",
    "version": 3
   },
   "file_extension": ".py",
   "mimetype": "text/x-python",
   "name": "python",
   "nbconvert_exporter": "python",
   "pygments_lexer": "ipython3",
   "version": "3.12.3"
  }
 },
 "nbformat": 4,
 "nbformat_minor": 5
}
